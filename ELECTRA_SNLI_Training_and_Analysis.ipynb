{
 "cells": [
  {
   "cell_type": "markdown",
   "metadata": {},
   "source": [
    "# Training and Analysis of ELECTRA-small on SNLI Dataset"
   ]
  },
  {
   "cell_type": "code",
   "execution_count": null,
   "id": "3650787e",
   "metadata": {},
   "outputs": [],
   "source": [
    "!git clone https://github.com/gregdurrett/fp-dataset-artifacts\n",
    "%cd fp-dataset-artifacts"
   ]
  },
  {
   "cell_type": "code",
   "execution_count": null,
   "metadata": {},
   "outputs": [],
   "source": [
    "# Ensure the required libraries are installed\n",
    "!pip install transformers datasets evaluate --quiet"
   ]
  },
  {
   "cell_type": "markdown",
   "metadata": {},
   "source": [
    "## Training the Model\n",
    "\n",
    "Run the following command to train the model on the SNLI dataset."
   ]
  },
  {
   "cell_type": "code",
   "execution_count": null,
   "metadata": {},
   "outputs": [],
   "source": [
    "!python3 run.py --do_train --task nli --dataset snli --output_dir ./trained_model/"
   ]
  },
  {
   "cell_type": "markdown",
   "metadata": {},
   "source": [
    "## Evaluating the Model\n",
    "\n",
    "Evaluate the trained model on the SNLI validation set."
   ]
  },
  {
   "cell_type": "code",
   "execution_count": null,
   "metadata": {},
   "outputs": [],
   "source": [
    "!python3 run.py --do_eval --task nli --dataset snli --model ./trained_model/ --output_dir ./eval_output/"
   ]
  },
  {
   "cell_type": "markdown",
   "metadata": {},
   "source": [
    "## Data Analysis\n",
    "\n",
    "Analyze the SNLI dataset to understand its structure and characteristics."
   ]
  },
  {
   "cell_type": "code",
   "execution_count": null,
   "metadata": {},
   "outputs": [],
   "source": [
    "from datasets import load_dataset\n",
    "\n",
    "# Load SNLI dataset\n",
    "snli = load_dataset(\"snli\")\n",
    "\n",
    "# Analyze dataset structure\n",
    "print(snli)\n",
    "\n",
    "# Check label distribution\n",
    "label_dist = snli['train'].features['label'].names\n",
    "print(\"Labels: \", label_dist)\n",
    "\n",
    "# Sample data points\n",
    "print(snli['train'][0:5])"
   ]
  },
  {
   "cell_type": "markdown",
   "metadata": {},
   "source": [
    "## Visualizing Results\n",
    "\n",
    "Visualize the evaluation metrics for better insights."
   ]
  },
  {
   "cell_type": "code",
   "execution_count": null,
   "metadata": {},
   "outputs": [],
   "source": [
    "import json\n",
    "import matplotlib.pyplot as plt\n",
    "\n",
    "# Load evaluation results\n",
    "with open('./eval_output/eval_metrics.json', 'r') as f:\n",
    "    metrics = json.load(f)\n",
    "\n",
    "# Visualize accuracy\n",
    "accuracy = metrics.get('accuracy', 0)\n",
    "print(f\"Model Accuracy: {accuracy * 100:.2f}%\")\n",
    "\n",
    "# Optionally plot if multiple metrics exist\n",
    "metrics_keys = list(metrics.keys())\n",
    "values = list(metrics.values())\n",
    "plt.bar(metrics_keys, values)\n",
    "plt.title('Evaluation Metrics')\n",
    "plt.show()"
   ]
  }
 ],
 "metadata": {
  "kernelspec": {
   "display_name": "Python 3",
   "language": "python",
   "name": "python3"
  },
  "language_info": {
   "codemirror_mode": {
    "name": "ipython",
    "version": 3
   },
   "file_extension": ".py",
   "mimetype": "text/x-python",
   "name": "python",
   "nbconvert_exporter": "python",
   "pygments_lexer": "ipython3",
   "version": "3.8.8"
  }
 },
 "nbformat": 4,
 "nbformat_minor": 5
}
